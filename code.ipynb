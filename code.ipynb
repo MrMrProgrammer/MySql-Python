{
 "cells": [
  {
   "cell_type": "markdown",
   "metadata": {},
   "source": [
    "اضافه کردن کتابخانه‌های مورد نیاز"
   ]
  },
  {
   "cell_type": "code",
   "execution_count": 4,
   "metadata": {},
   "outputs": [],
   "source": [
    "import mysql.connector\n",
    "import pandas as pd"
   ]
  },
  {
   "cell_type": "markdown",
   "metadata": {},
   "source": [
    "اطلاعات دیتابیس"
   ]
  },
  {
   "cell_type": "code",
   "execution_count": 5,
   "metadata": {},
   "outputs": [],
   "source": [
    "db_config = {\n",
    "    'host': 'localhost',\n",
    "    'user': 'root',\n",
    "    'password': '1234',\n",
    "    'database': 'new_database'\n",
    "}"
   ]
  },
  {
   "cell_type": "markdown",
   "metadata": {},
   "source": [
    "ایجاد یک دیتابیس و اضافه کردن دیتا به آن"
   ]
  },
  {
   "cell_type": "code",
   "execution_count": 6,
   "metadata": {},
   "outputs": [
    {
     "name": "stdout",
     "output_type": "stream",
     "text": [
      "اتصال با موفقیت برقرار شد.\n",
      "جدول با موفقیت ایجاد شد.\n",
      "داده‌ها با موفقیت به جدول اضافه شدند.\n",
      "اتصال بسته شد.\n"
     ]
    }
   ],
   "source": [
    "try:\n",
    "    connection = mysql.connector.connect(**db_config)\n",
    "\n",
    "    if connection.is_connected():\n",
    "        print('اتصال با موفقیت برقرار شد.')\n",
    "        \n",
    "        create_table_query = \"\"\"\n",
    "        CREATE TABLE IF NOT EXISTS users (\n",
    "            id INT AUTO_INCREMENT PRIMARY KEY,\n",
    "            name VARCHAR(255),\n",
    "            email VARCHAR(255)\n",
    "        )\n",
    "        \"\"\"\n",
    "        cursor = connection.cursor()\n",
    "        cursor.execute(create_table_query)\n",
    "        print('جدول با موفقیت ایجاد شد.')\n",
    "\n",
    "        insert_data_query = \"\"\"\n",
    "        INSERT INTO users (name, email) VALUES (%s, %s)\n",
    "        \"\"\"\n",
    "        user_data = [\n",
    "            ('John Doe', 'john@example.com'),\n",
    "            ('Jane Smith', 'jane@example.com')\n",
    "        ]\n",
    "        cursor.executemany(insert_data_query, user_data)\n",
    "        connection.commit()\n",
    "        print('داده‌ها با موفقیت به جدول اضافه شدند.')\n",
    "\n",
    "except mysql.connector.Error as error:\n",
    "    print('خطا در اتصال به دیتابیس:', error)\n",
    "\n",
    "finally:\n",
    "    if 'connection' in locals() and connection.is_connected():\n",
    "        cursor.close()\n",
    "        connection.close()\n",
    "        print('اتصال بسته شد.')"
   ]
  },
  {
   "cell_type": "markdown",
   "metadata": {},
   "source": [
    "Pandas خواندن دیتا درون دیتابیس و نمایش آن با استفاده از"
   ]
  },
  {
   "cell_type": "code",
   "execution_count": 7,
   "metadata": {},
   "outputs": [
    {
     "name": "stdout",
     "output_type": "stream",
     "text": [
      "اتصال با موفقیت برقرار شد.\n",
      "    id        name             email\n",
      "0    1    John Doe  john@example.com\n",
      "1    2  Jane Smith  jane@example.com\n",
      "2    3    John Doe  john@example.com\n",
      "3    4  Jane Smith  jane@example.com\n",
      "4    5    John Doe  john@example.com\n",
      "5    6  Jane Smith  jane@example.com\n",
      "6    7    John Doe  john@example.com\n",
      "7    8  Jane Smith  jane@example.com\n",
      "8    9    John Doe  john@example.com\n",
      "9   10  Jane Smith  jane@example.com\n",
      "10  11    John Doe  john@example.com\n",
      "11  12  Jane Smith  jane@example.com\n",
      "اتصال بسته شد.\n"
     ]
    },
    {
     "name": "stderr",
     "output_type": "stream",
     "text": [
      "/tmp/ipykernel_105171/2193037566.py:8: UserWarning: pandas only supports SQLAlchemy connectable (engine/connection) or database string URI or sqlite3 DBAPI2 connection. Other DBAPI2 objects are not tested. Please consider using SQLAlchemy.\n",
      "  df = pd.read_sql(query, connection)\n"
     ]
    }
   ],
   "source": [
    "try:\n",
    "    connection = mysql.connector.connect(**db_config)\n",
    "\n",
    "    if connection.is_connected():\n",
    "        print('اتصال با موفقیت برقرار شد.')\n",
    "        \n",
    "        query = \"SELECT * FROM users\"\n",
    "        df = pd.read_sql(query, connection)\n",
    "        print(df)\n",
    "\n",
    "except mysql.connector.Error as error:\n",
    "    print('خطا در اتصال به دیتابیس:', error)\n",
    "\n",
    "finally:\n",
    "    if 'connection' in locals() and connection.is_connected():\n",
    "        connection.close()\n",
    "        print('اتصال بسته شد.')"
   ]
  }
 ],
 "metadata": {
  "kernelspec": {
   "display_name": "Python 3",
   "language": "python",
   "name": "python3"
  },
  "language_info": {
   "codemirror_mode": {
    "name": "ipython",
    "version": 3
   },
   "file_extension": ".py",
   "mimetype": "text/x-python",
   "name": "python",
   "nbconvert_exporter": "python",
   "pygments_lexer": "ipython3",
   "version": "3.10.12"
  }
 },
 "nbformat": 4,
 "nbformat_minor": 2
}
